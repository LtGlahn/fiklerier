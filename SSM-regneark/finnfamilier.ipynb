{
 "cells": [
  {
   "cell_type": "code",
   "execution_count": 54,
   "metadata": {},
   "outputs": [],
   "source": [
    "import re\n",
    "\n",
    "import pandas as pd\n",
    "import numpy as np "
   ]
  },
  {
   "cell_type": "code",
   "execution_count": 55,
   "metadata": {},
   "outputs": [],
   "source": [
    "def sammeforesatt( rec1, rec2 ): \n",
    "    \"\"\"\n",
    "    Sjekker om det er overlapp på navn, telefonnummer eller epost for to oppføringer fra \"Foresatt rapport m epost\" \n",
    "    \n",
    "    Sjekker om det er overlapp på navn, telefonnummer eller epost for to oppføringer \n",
    "    fra \"Foresatt rapport m epost\" fra styreweb.com.\n",
    "    \n",
    "    ARGUMENTS\n",
    "        rec1, rec2 : To pandas.series objekter hentet fra dataframe lest inn fra styreweb-regnearket\n",
    "    \n",
    "    KEYWORDS\n",
    "        None \n",
    "        \n",
    "    RETURNS \n",
    "        None eller dictionary\n",
    "        Med matc så returnerer vi dictionary med navn på de to som (potensielt) er søsken, \n",
    "        dvs overlappende kontaktinfo på foresatte \n",
    "        None  \n",
    "    \"\"\"\n",
    "    \n",
    "    treffliste = []\n",
    "    \n",
    "    # Treff på etternavn\n",
    "    if rec1['Etternavn'].lower() == rec2['Etternavn'].lower():\n",
    "        treffliste.append( 'Etternavn')\n",
    "\n",
    "    # Navn foresatt 1 og 2 er identisk\n",
    "    if sjekknavn( rec1['Foresatt 1'], rec2['Foresatt 1'] ): \n",
    "        treffliste.append( 'Foresatt 1')\n",
    "    if sjekknavn( rec1['Foresatt 1'], rec2['Foresatt 2'] ): \n",
    "        treffliste.append( 'Foresatt 1 og 2')\n",
    "    if sjekknavn( rec1['Foresatt 2'], rec2['Foresatt 1'] ): \n",
    "        treffliste.append( 'Foresatt 1 og 2')\n",
    "    if sjekknavn( rec1['Foresatt 2'], rec2['Foresatt 2'] ): \n",
    "        treffliste.append( 'Foresatt 2')\n",
    "        \n",
    "    if  rec1['e-post']   == rec2['e-post']    or \\\n",
    "        rec1['e-post']   == rec2['e-post.1']  or \\\n",
    "        rec1['e-post.1'] == rec2['e-post']    or \\\n",
    "        rec1['e-post.1'] == rec2['e-post.1']:\n",
    "        \n",
    "        treffliste.append( 'e-post')\n",
    "        \n",
    "    if len( treffliste) > 0: \n",
    "        return { \n",
    "            'Medlem 1' : ', '.join( [ rec1['Etternavn'], rec1['Fornavn'] ] ), \n",
    "            'Medlem 2' : ', '.join( [ rec2['Etternavn'], rec2['Fornavn'] ] ), \n",
    "        #    'Foresatt medlem 1' : ', '.join( sorted( [rec1['Foresatt 1'], \n",
    "        #                                              rec1['Foresatt 2'] ] ) ),\n",
    "        #    'Foresatt medlem 2' : ', '.join( sorted( [rec2['Foresatt 1'], \n",
    "        #                                              rec2['Foresatt 2'] ] ) ), \n",
    "            'Treff på:'  : ', '.join( sorted( treffliste ))\n",
    "        }\n",
    "    else: \n",
    "        return None\n",
    "        \n",
    "\n",
    "def sjekknavn( navn1, navn2): \n",
    "    \"\"\"\n",
    "    Sjekker om deler av navn1 er lik deler av navn 2\n",
    "    \"\"\"\n",
    "    tf = False \n",
    "    if isinstance( navn1, str ) and isinstance( navn2, str): \n",
    "        n1 = sorted(re.sub('[^a-zA-Z.\\d\\s]', '', navn1.lower()).split())\n",
    "        n2 = sorted(re.sub('[^a-zA-Z.\\d\\s]', '', navn2.lower()).split())\n",
    "\n",
    "        tf = all( [ x in n2 for x in n1  ] )\n",
    "    \n",
    "    return tf\n",
    "    "
   ]
  },
  {
   "cell_type": "code",
   "execution_count": 56,
   "metadata": {},
   "outputs": [
    {
     "data": {
      "text/plain": [
       "Etternavn      object\n",
       "Fornavn        object\n",
       "Foresatt 1     object\n",
       "Tlf           float64\n",
       "Mobil         float64\n",
       "e-post         object\n",
       "Foresatt 2     object\n",
       "Tlf.1         float64\n",
       "Mobil.1       float64\n",
       "e-post.1       object\n",
       "dtype: object"
      ]
     },
     "execution_count": 56,
     "metadata": {},
     "output_type": "execute_result"
    }
   ],
   "source": [
    "mydf = pd.read_excel( 'Foresatt_Rapport_m_e-post.xlsx', header=2)\n",
    "mydf = mydf[ ~mydf['Etternavn'].isnull()]\n",
    "mydf = mydf[ ~mydf['Etternavn'].str.contains( 'Generert av')]\n",
    "mydf.dtypes"
   ]
  },
  {
   "cell_type": "code",
   "execution_count": 57,
   "metadata": {},
   "outputs": [],
   "source": [
    "rec1 = mydf.iloc[30]"
   ]
  },
  {
   "cell_type": "code",
   "execution_count": 58,
   "metadata": {},
   "outputs": [],
   "source": [
    "rec2 = mydf.iloc[53]"
   ]
  },
  {
   "cell_type": "code",
   "execution_count": 59,
   "metadata": {},
   "outputs": [],
   "source": [
    "r = sammeforesatt( rec1, rec2)"
   ]
  }
 ],
 "metadata": {
  "kernelspec": {
   "display_name": "Python 3",
   "language": "python",
   "name": "python3"
  },
  "language_info": {
   "codemirror_mode": {
    "name": "ipython",
    "version": 3
   },
   "file_extension": ".py",
   "mimetype": "text/x-python",
   "name": "python",
   "nbconvert_exporter": "python",
   "pygments_lexer": "ipython3",
   "version": "3.8.5"
  }
 },
 "nbformat": 4,
 "nbformat_minor": 4
}
