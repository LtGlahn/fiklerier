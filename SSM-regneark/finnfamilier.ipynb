{
 "cells": [
  {
   "cell_type": "code",
   "execution_count": 2,
   "metadata": {},
   "outputs": [],
   "source": [
    "import pandas as pd"
   ]
  },
  {
   "cell_type": "code",
   "execution_count": 3,
   "metadata": {},
   "outputs": [],
   "source": [
    "def sammeforesatt( rec1, rec2 ): \n",
    "    \"\"\"\n",
    "    Sjekker om det er overlapp på navn, telefonnummer eller epost for to oppføringer fra \"Foresatt rapport m epost\" \n",
    "    \n",
    "    Sjekker om det er overlapp på navn, telefonnummer eller epost for to oppføringer \n",
    "    fra \"Foresatt rapport m epost\" fra styreweb.com.\n",
    "    \n",
    "    ARGUMENTS\n",
    "        rec1, rec2 : To pandas.series objekter hentet fra dataframe lest inn fra styreweb-regnearket\n",
    "    \n",
    "    KEYWORDS\n",
    "        None \n",
    "        \n",
    "    RETURNS \n",
    "        None eller dictionary\n",
    "        Med matc så returnerer vi dictionary med navn på de to som (potensielt) er søsken, \n",
    "        dvs overlappende kontaktinfo på foresatte \n",
    "        None  \n",
    "    \"\"\"\n",
    "    "
   ]
  },
  {
   "cell_type": "code",
   "execution_count": 4,
   "metadata": {},
   "outputs": [
    {
     "data": {
      "text/plain": [
       "Etternavn      object\n",
       "Fornavn        object\n",
       "Foresatt 1     object\n",
       "Tlf           float64\n",
       "Mobil         float64\n",
       "e-post         object\n",
       "Foresatt 2     object\n",
       "Tlf.1         float64\n",
       "Mobil.1       float64\n",
       "e-post.1       object\n",
       "dtype: object"
      ]
     },
     "execution_count": 4,
     "metadata": {},
     "output_type": "execute_result"
    }
   ],
   "source": [
    "mydf = pd.read_excel( 'Foresatt_Rapport_m_e-post.xlsx', header=2)\n",
    "mydf = mydf[ ~mydf['Etternavn'].isnull()]\n",
    "mydf = mydf[ ~mydf['Etternavn'].str.contains( 'Generert av')]\n",
    "mydf.dtypes"
   ]
  },
  {
   "cell_type": "code",
   "execution_count": 5,
   "metadata": {},
   "outputs": [],
   "source": [
    "rec1 = mydf.iloc[30]"
   ]
  },
  {
   "cell_type": "code",
   "execution_count": 6,
   "metadata": {},
   "outputs": [],
   "source": [
    "rec2 = mydf.iloc[53]"
   ]
  },
  {
   "cell_type": "code",
   "execution_count": 18,
   "metadata": {},
   "outputs": [],
   "source": []
  }
 ],
 "metadata": {
  "kernelspec": {
   "display_name": "Python 3",
   "language": "python",
   "name": "python3"
  },
  "language_info": {
   "codemirror_mode": {
    "name": "ipython",
    "version": 3
   },
   "file_extension": ".py",
   "mimetype": "text/x-python",
   "name": "python",
   "nbconvert_exporter": "python",
   "pygments_lexer": "ipython3",
   "version": "3.8.5"
  }
 },
 "nbformat": 4,
 "nbformat_minor": 4
}
